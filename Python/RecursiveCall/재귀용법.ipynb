{
 "cells": [
  {
   "cell_type": "markdown",
   "metadata": {},
   "source": [
    "# 재귀 용법 (recursive call, 재귀 호출)\n",
    "고급 정렬 알고리즘에서 재귀 용법을 사용하므로, 고급 정렬 알고리즘을 익히기 전에 재귀 용법을 먼저 익히기로 합니다."
   ]
  },
  {
   "cell_type": "markdown",
   "metadata": {},
   "source": [
    "## 1. 재귀 용법 (recursive call, 재귀 호출)\n",
    "- 함수 안에서 동일한 함수를 호출하는 형태\n",
    "- 여러 알고리즘 작성 시 사용되므로, 익숙해져야 함"
   ]
  },
  {
   "cell_type": "markdown",
   "metadata": {},
   "source": [
    "## 2. 재귀 용법 이해\n",
    "- 예제를 풀어보며, 재귀 용법을 이해해보기\n",
    "\n",
    "### 예제\n",
    "- 팩토리얼을 구하는 알고리즘을 Recursive Call 을 활용해서 알고리즘 작성하기"
   ]
  },
  {
   "cell_type": "markdown",
   "metadata": {},
   "source": [
    "### 예제 - 분석하기\n",
    "- 간단한 경우부터 생각해보기\n",
    "    - 2! = 1 x 2\n",
    "    - 3! = 1 x 2 x 3\n",
    "    - 4! = 1 x 2 x 3 x 4\n",
    "- 규칙이 보임: n! = n x (n - 1)!\n",
    "    1. 함수를 하나 만든다.\n",
    "    2. 함수(n) 은 n > 1 이면 return n x 함수(n-1)\n",
    "    3. 함수(n) 은 n = 1 이면 return n\n",
    "- 검증(코드로 검증하지 않고, 직접 간단한 경우부터 대입해서 검증해야 함)\n",
    "    1. 먼저 2! 부터\n",
    "        - 함수(2) 이면, 2 > 1 이므로 2 x 함수(1)\n",
    "        - 함수(1) 은 1 이므로, return 2 x 1 = 2 맞다!\n",
    "    2. 3! 의 경우\n",
    "        - 함수(3) 이면, 3 > 1 이므로 3 x 함수(2)\n",
    "        - 함수(2) 는 결국 1번에 의해 2! 이므로, return 2 x 1 = 2\n",
    "        - 3 x 함수(2) = 3 x 2 = 3 x 2 x 1 = 6 맞다!\n",
    "    3. 4! 의 경우\n",
    "        - 함수(4) 이면, 4 > 1 이므로 4 x 함수(3)\n",
    "        - 함수(3) 은 결국 2번에 의해 3! 이므로 return 3 x 2 x 1 = 6\n",
    "        - 4 x 함수(3) = 4 x 6 = 24 맞다!"
   ]
  },
  {
   "cell_type": "markdown",
   "metadata": {},
   "source": [
    "### 예제 - 코드 레벨로 적어보기"
   ]
  },
  {
   "cell_type": "code",
   "execution_count": 4,
   "metadata": {},
   "outputs": [],
   "source": [
    "def factorial(num):\n",
    "    if num > 1:\n",
    "        return num * factorial(num - 1)\n",
    "    else:\n",
    "        return num"
   ]
  },
  {
   "cell_type": "code",
   "execution_count": 5,
   "metadata": {},
   "outputs": [
    {
     "name": "stdout",
     "output_type": "stream",
     "text": [
      "0\n",
      "1\n",
      "2\n",
      "6\n",
      "24\n",
      "120\n",
      "720\n",
      "5040\n",
      "40320\n",
      "362880\n"
     ]
    }
   ],
   "source": [
    "for num in range(10):\n",
    "    print(factorial(num))"
   ]
  },
  {
   "cell_type": "markdown",
   "metadata": {},
   "source": [
    "### 예제 - 시간 복잡도와 공간 복잡도\n",
    "- factorial(n) 은 n-1 번의 factorial() 함수를 호출해서, 곱셈을 함\n",
    "    - 일종의 n-1번 반복문을 호출한 것과 동일\n",
    "    - factorial() 함수를 호출할 때마다, 지역변수 n 이 생성됨\n",
    "- 시간 복잡도 / 공간 복잡도는 O(n-1) 이므로 결국, 둘다 O(n)"
   ]
  },
  {
   "cell_type": "markdown",
   "metadata": {},
   "source": [
    "## 3. 재귀 호출의 일반적인 형태"
   ]
  },
  {
   "cell_type": "code",
   "execution_count": 6,
   "metadata": {},
   "outputs": [],
   "source": [
    "# 일반적인 형태 1\n",
    "def function(입력):\n",
    "    if 입력 > 일정값: # 입력이 일정 값 이상이면\n",
    "        return function(입력-1) # 입력보다 작은 값\n",
    "    else:\n",
    "        return 일정값, 입력값 또는 특정값 # 재귀 호출 종료"
   ]
  },
  {
   "cell_type": "code",
   "execution_count": 8,
   "metadata": {},
   "outputs": [],
   "source": [
    "# 일반적인 형태 2\n",
    "def function(입력):\n",
    "    if 입력 <= 일정값: # 입력이 일정 값보다 작으면\n",
    "        return 일정값, 입력값 또는 특정값 # 재귀 호출 종료\n",
    "    function(입력보다 작은 값)\n",
    "    return 결과값"
   ]
  },
  {
   "cell_type": "code",
   "execution_count": 9,
   "metadata": {},
   "outputs": [],
   "source": [
    "def factorial(num):\n",
    "    if num <= 1:\n",
    "        return num\n",
    "    \n",
    "    return num * factorial(num-1)"
   ]
  },
  {
   "cell_type": "code",
   "execution_count": 10,
   "metadata": {},
   "outputs": [
    {
     "name": "stdout",
     "output_type": "stream",
     "text": [
      "0\n",
      "1\n",
      "2\n",
      "6\n",
      "24\n",
      "120\n",
      "720\n",
      "5040\n",
      "40320\n",
      "362880\n"
     ]
    }
   ],
   "source": [
    "for num in range(10):\n",
    "    print(factorial(num))"
   ]
  },
  {
   "cell_type": "markdown",
   "metadata": {},
   "source": [
    "### 재귀 호출은 스택의 전형적인 예\n",
    "- 함수는 내부적으로 스택처럼 관리된다.\n",
    "- 재귀 호출이 이해가 가지 않는다면? - http://pythontutor.com/live.html#mode=edit\n",
    "- 참고: 파이썬에서 재귀 함수는 깊이가(한번에 호출되는...) 1000회 이하가 되어야 함"
   ]
  },
  {
   "cell_type": "markdown",
   "metadata": {},
   "source": [
    "## 4. 재귀 용법을 활용한 프로그래밍 연습\n",
    "\n",
    "### 프로그래밍 연습\n",
    "- 다음 함수를 재귀 함수를 활용해서 완성해서 1부터 num까지의 곱이 출력되게 만드세요"
   ]
  },
  {
   "cell_type": "code",
   "execution_count": 11,
   "metadata": {},
   "outputs": [],
   "source": [
    "def multiple(data):\n",
    "    return_value = 1\n",
    "    for index in range(data+1):\n",
    "        return_value *= index\n",
    "    return return_value"
   ]
  },
  {
   "cell_type": "code",
   "execution_count": 12,
   "metadata": {},
   "outputs": [],
   "source": [
    "def multiple(data):\n",
    "    if data <= 1:\n",
    "        return data\n",
    "    \n",
    "    return data * multiple(data-1)"
   ]
  },
  {
   "cell_type": "code",
   "execution_count": 13,
   "metadata": {},
   "outputs": [
    {
     "data": {
      "text/plain": [
       "3628800"
      ]
     },
     "execution_count": 13,
     "metadata": {},
     "output_type": "execute_result"
    }
   ],
   "source": [
    "multiple(10)"
   ]
  },
  {
   "cell_type": "markdown",
   "metadata": {},
   "source": [
    "### 프로그래밍 연습\n",
    "- 숫자가 들어 있는 리스트가 주어졌을 때, 리스트의 합을 리턴하는 함수를 만드세요\n",
    "- 참고: 임의 값으로 리스트 만들기 random.sample(0~99까지 중에서 임의로 10개를 만들어서 10개 값을 가지는 리스트 변수 만들기)"
   ]
  },
  {
   "cell_type": "code",
   "execution_count": 14,
   "metadata": {},
   "outputs": [
    {
     "data": {
      "text/plain": [
       "[1, 8, 39, 26, 9, 11, 77, 67, 90, 21]"
      ]
     },
     "execution_count": 14,
     "metadata": {},
     "output_type": "execute_result"
    }
   ],
   "source": [
    "import random\n",
    "data = random.sample(range(100), 10)\n",
    "data"
   ]
  },
  {
   "cell_type": "markdown",
   "metadata": {},
   "source": [
    "### 프로그래밍 연습\n",
    "- 숫자가 들어 있는 리스트가 주어졌을 때, 리스트의 합을 리턴하는 함수를 만드세요 (재귀 함수를 써보세요)"
   ]
  },
  {
   "cell_type": "code",
   "execution_count": 15,
   "metadata": {},
   "outputs": [],
   "source": [
    "def sum_list(data):\n",
    "    if len(data) <= 1:\n",
    "        return data[0]\n",
    "    \n",
    "    return data[0] + sum_list(data[1:])"
   ]
  },
  {
   "cell_type": "code",
   "execution_count": 16,
   "metadata": {},
   "outputs": [
    {
     "data": {
      "text/plain": [
       "349"
      ]
     },
     "execution_count": 16,
     "metadata": {},
     "output_type": "execute_result"
    }
   ],
   "source": [
    "sum_list(data)"
   ]
  },
  {
   "cell_type": "markdown",
   "metadata": {},
   "source": [
    "### 프로그래밍 연습\n",
    "- 회문(palindrome)은 순서를 거꾸로 읽어도 제대로 읽은 것과 같은 단어와 문장을 의미함\n",
    "- 회문을 판별할 수 있는 함수를 리스트 스라이싱을 활용해서 만드세요\n",
    "- 참고: 리스트 슬라이싱\n",
    "    - string = 'Dave'\n",
    "        - string[0] ==> D\n",
    "        - string[-1] ==> e\n",
    "        - string[1:-1] ==> av\n",
    "        - string[:-1] ==> Dav"
   ]
  },
  {
   "cell_type": "code",
   "execution_count": 26,
   "metadata": {},
   "outputs": [],
   "source": [
    "def palindrome(string):\n",
    "    if len(string) == 1:\n",
    "        return True\n",
    "    \n",
    "    if string[0] == string[-1]:\n",
    "        return palindrome(string[1:-1])\n",
    "    else:\n",
    "        return False"
   ]
  },
  {
   "cell_type": "code",
   "execution_count": 27,
   "metadata": {},
   "outputs": [
    {
     "data": {
      "text/plain": [
       "True"
      ]
     },
     "execution_count": 27,
     "metadata": {},
     "output_type": "execute_result"
    }
   ],
   "source": [
    "palindrome(\"level\")"
   ]
  },
  {
   "cell_type": "code",
   "execution_count": 28,
   "metadata": {},
   "outputs": [
    {
     "data": {
      "text/plain": [
       "False"
      ]
     },
     "execution_count": 28,
     "metadata": {},
     "output_type": "execute_result"
    }
   ],
   "source": [
    "palindrome(\"motor\")"
   ]
  },
  {
   "cell_type": "markdown",
   "metadata": {},
   "source": [
    "### 프로그래밍 연습\n",
    "1. 정수 n 에 대해\n",
    "2. n 이 홀수이면 3 x n + 1 을 하고,\n",
    "3. n 이 짝수이면 n 을 2로 나눕니다.\n",
    "4. 이렇게 계속 진행해서 n 이 결국 1이 될 때까지 2와 3의 과정을 반복합니다.\n",
    "\n",
    "예를 들어 n에 3을 넣으면,"
   ]
  },
  {
   "cell_type": "code",
   "execution_count": 29,
   "metadata": {},
   "outputs": [
    {
     "data": {
      "text/plain": [
       "1"
      ]
     },
     "execution_count": 29,
     "metadata": {},
     "output_type": "execute_result"
    }
   ],
   "source": [
    "3\n",
    "10\n",
    "5\n",
    "16\n",
    "8\n",
    "4\n",
    "2\n",
    "1"
   ]
  },
  {
   "cell_type": "markdown",
   "metadata": {},
   "source": [
    "이 됩1니다.\n",
    "\n",
    "이렇게 정수 n을 입력받아, 위 알고리즘에 의해 1이 되는 과정을 모두 출력하는 함수를 작성하세요."
   ]
  },
  {
   "cell_type": "code",
   "execution_count": 34,
   "metadata": {},
   "outputs": [],
   "source": [
    "def print_num(num):\n",
    "    print(num)\n",
    "    \n",
    "    if num == 1:\n",
    "        return\n",
    "    \n",
    "    if num % 2 == 0:\n",
    "        return print_num(num // 2)\n",
    "    else:\n",
    "        return print_num((3 * num) + 1)"
   ]
  },
  {
   "cell_type": "code",
   "execution_count": 35,
   "metadata": {},
   "outputs": [
    {
     "name": "stdout",
     "output_type": "stream",
     "text": [
      "3\n",
      "10\n",
      "5\n",
      "16\n",
      "8\n",
      "4\n",
      "2\n",
      "1\n"
     ]
    }
   ],
   "source": [
    "print_num(3)"
   ]
  },
  {
   "cell_type": "markdown",
   "metadata": {},
   "source": [
    "### 프로그래밍 연습\n",
    "- 문제: 정수 4를 1, 2, 3의 조합으로 나타내는 방법은 다음과 같이 총 7가지가 있음\n",
    "    - 1+1+1+1\n",
    "    - 1+1+2\n",
    "    - 1+2+1\n",
    "    - 2+1+1\n",
    "    - 2+2\n",
    "    - 1+3\n",
    "    - 3+1\n",
    "- 정수 n이 입력으로 주어졌을 때, n을 1,2,3의 합으로 나타낼 수 있는 방법의 수를 구하시오\n",
    "\n",
    "- 힌트: 정수 n을 만들 수 있는 경우의 수를 리턴하는 함수를 f(n) 이라고 하면,\n",
    "  f(n)은 f(n-1) + f(n-2) + f(n-3)과 동일하다는 패턴 찾기"
   ]
  },
  {
   "cell_type": "code",
   "execution_count": 36,
   "metadata": {},
   "outputs": [],
   "source": [
    "def func(data):\n",
    "    if data == 1:\n",
    "        return 1\n",
    "    elif data == 2:\n",
    "        return 2\n",
    "    elif data == 3:\n",
    "        return 4\n",
    "    else:\n",
    "        return func(data - 1) + func(data - 2) + func(data - 3)"
   ]
  },
  {
   "cell_type": "code",
   "execution_count": 37,
   "metadata": {},
   "outputs": [
    {
     "data": {
      "text/plain": [
       "7"
      ]
     },
     "execution_count": 37,
     "metadata": {},
     "output_type": "execute_result"
    }
   ],
   "source": [
    "func(4)"
   ]
  },
  {
   "cell_type": "code",
   "execution_count": 38,
   "metadata": {},
   "outputs": [
    {
     "data": {
      "text/plain": [
       "13"
      ]
     },
     "execution_count": 38,
     "metadata": {},
     "output_type": "execute_result"
    }
   ],
   "source": [
    "func(5)"
   ]
  },
  {
   "cell_type": "code",
   "execution_count": null,
   "metadata": {},
   "outputs": [],
   "source": []
  }
 ],
 "metadata": {
  "kernelspec": {
   "display_name": "Python 3",
   "language": "python",
   "name": "python3"
  },
  "language_info": {
   "codemirror_mode": {
    "name": "ipython",
    "version": 3
   },
   "file_extension": ".py",
   "mimetype": "text/x-python",
   "name": "python",
   "nbconvert_exporter": "python",
   "pygments_lexer": "ipython3",
   "version": "3.8.3"
  }
 },
 "nbformat": 4,
 "nbformat_minor": 4
}
