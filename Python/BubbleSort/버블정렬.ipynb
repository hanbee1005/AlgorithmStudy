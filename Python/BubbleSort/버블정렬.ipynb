{
 "cells": [
  {
   "cell_type": "markdown",
   "metadata": {},
   "source": [
    "# 대표적인 정렬1: 버블 정렬 (bubble sort)"
   ]
  },
  {
   "cell_type": "markdown",
   "metadata": {},
   "source": [
    "## 0. 알고리즘 연습 방법\n",
    "- 알고리즘을 잘 작성하기 위해서는 잘 작성된 알고리즘을 이해하고, 스스로 만들어봐야 함\n",
    "    - 모사! 그림을 잘 그리기 위해서는 잘 그린 그림을 모방하는 것부터 시작"
   ]
  },
  {
   "cell_type": "markdown",
   "metadata": {},
   "source": [
    "- 알고리즘 연습 방법\n",
    "    1. 연습장과 펜을 준비하자.\n",
    "    2. 알고리즘 문제를 읽고 분석한 후에,\n",
    "    3. 간단하게 테스트용으로 매우 간단한 경우부터 복잡한 경우 순서대로 생각해보면서, 연습장과 펜을 이용하여 알고리즘을 생각해본다.\n",
    "    4. 가능한 알고리즘이 보인다면, 구현할 알고리즘을 세부 항목으로 나누고, 문장으로 세부 항목을 나눠서 적어본다.\n",
    "    5. 코드화하기 위해, 데이터 구조 또는 사용할 변수를 정리하고,\n",
    "    6. 각 문장을 코드 레벨로 적는다.\n",
    "    7. 데이터 구조 또는 사용할 변수가 코드에 따라 어떻게 변하는지를 손으로 적으면서, 임의 데이터로 코드가 정상 동작하는지 검증한다."
   ]
  },
  {
   "cell_type": "markdown",
   "metadata": {},
   "source": [
    "## 1. 정렬 (sorting) 이란?\n",
    "- 정렬 (sorting): 어떤 데이터들이 주어졌을 때 이를 정해진 순서대로 나열하는 것\n",
    "- 정렬은 프로그램 작성 시 빈번하게 필요로 함\n",
    "- 다양한 알고리즘이 고안되었으며, 알고리즘 학습의 필수"
   ]
  },
  {
   "cell_type": "markdown",
   "metadata": {},
   "source": [
    "## 2. 버블 정렬 (bubble sort) 란?\n",
    "- 두 인접한 데이터를 비교해서, 앞에 있는 데이터가 뒤에 있는 데이터보다 크면, 자리를 바꾸는 정렬 알고리즘\n",
    "- 직접 눈으로 보면 더 이해가 쉽다: https://visualgo.net/en/sorting"
   ]
  },
  {
   "cell_type": "markdown",
   "metadata": {},
   "source": [
    "<img src=\"https://upload.wikimedia.org/wikipedia/commons/c/c8/Bubble-sort-example-300px.gif\" />\n",
    "출처: https://en.wikipedia.org/wiki/Bubble_sort"
   ]
  },
  {
   "cell_type": "markdown",
   "metadata": {},
   "source": [
    "## 3. 어떻게 코드로 만들까?\n",
    "\n",
    "- 프로그래밍 연습\n",
    "    - 데이터가 두 개일 때 버블 정렬 알고리즘 방식으로 정렬해보세요."
   ]
  },
  {
   "cell_type": "code",
   "execution_count": 3,
   "metadata": {},
   "outputs": [],
   "source": [
    "# for index in range(데이터 길이 - 1):\n",
    "#     for index2 in range(데이터 길이 - index - 1):\n",
    "#         if 앞 데이터 > 뒤 데이터:\n",
    "#             swap(앞 데이터, 뒤 데이터)"
   ]
  },
  {
   "cell_type": "markdown",
   "metadata": {},
   "source": [
    "- 데이터가 네 개 일때 (데이터 갯수에 따라 복잡도가 떨어지는 것은 아니므로, 네 개로 바로 로직을 이해해보자.)\n",
    "    - 예: data_list = [1, 9, 3, 2]\n",
    "        - 1차 로직 적용\n",
    "            - 1 와 9 비교, 자리 바꿈 없음 [1,9,3,2]\n",
    "            - 9 와 3 비교, 자리 바꿈 [1,3,9,2]\n",
    "            - 9 와 2 비교, 자리 바꿈 [1,3,2,9]\n",
    "        - 2차 로직 적용\n",
    "            - 1 와 3 비교, 자리 바꿈 없음 [1,3,2,9]\n",
    "            - 3 와 2 비교, 자리 바꿈 [1,2,3,9]\n",
    "        - 3차 로직 적용\n",
    "            - 1 와 2 비교, 자리 바꿈 없음 [1,2,3,9]"
   ]
  },
  {
   "cell_type": "markdown",
   "metadata": {},
   "source": [
    "## 4. 알고리즘 구현\n",
    "- 특이점 찾아보기\n",
    "    - n개의 리스트가 있는 경우 최대 n-1번의 로직을 적용한다.\n",
    "    - 로직을 1번 적용할 때마다 가장 큰 숫자가 뒤에서부터 1개씩 결정된다.\n",
    "    - 로직이 경우에 따라 일찍 끝날 수도 있다. 따라서 로직을 적용할 때 한 번도 데이터가 교환된 적이 없다면 이미 정렬된 상태이므로 더 이상 로직을 반복 적용할 필요가 없다."
   ]
  },
  {
   "cell_type": "markdown",
   "metadata": {},
   "source": [
    "1. for num in range(len(data_list) - 1) 반복\n",
    "2. swap = 0 (교환이 되었는지를 확인하는 변수를 두자)\n",
    "3. 반복문 안에서, for index in range(len(data_list) - num - 1) n-1 번 반복해야 하므로\n",
    "4. 반복문 안의 반복문 안에서, if data_list[index] > data_list[index + 1] 이면\n",
    "5. data_list[index], data_list[index+1] = data_list[index+1], data_list[index]\n",
    "6. swap += 1\n",
    "7. 반복문 안에서, if swap == 0 이면, break 끝"
   ]
  },
  {
   "cell_type": "code",
   "execution_count": 6,
   "metadata": {},
   "outputs": [],
   "source": [
    "def bubblesort(data):\n",
    "    for num in range(len(data) - 1):\n",
    "        swap = False\n",
    "        for index in range(len(data) - num - 1):\n",
    "            if data[index] > data[index + 1]:\n",
    "                data[index], data[index + 1] = data[index + 1], data[index]\n",
    "                swap = True\n",
    "        if swap == False:\n",
    "            break\n",
    "        \n",
    "    return data"
   ]
  },
  {
   "cell_type": "code",
   "execution_count": 8,
   "metadata": {},
   "outputs": [
    {
     "data": {
      "text/plain": [
       "[1,\n",
       " 3,\n",
       " 6,\n",
       " 7,\n",
       " 11,\n",
       " 12,\n",
       " 14,\n",
       " 15,\n",
       " 16,\n",
       " 17,\n",
       " 19,\n",
       " 22,\n",
       " 23,\n",
       " 25,\n",
       " 26,\n",
       " 28,\n",
       " 31,\n",
       " 33,\n",
       " 34,\n",
       " 37,\n",
       " 40,\n",
       " 43,\n",
       " 48,\n",
       " 49,\n",
       " 50,\n",
       " 51,\n",
       " 53,\n",
       " 54,\n",
       " 55,\n",
       " 58,\n",
       " 59,\n",
       " 60,\n",
       " 65,\n",
       " 67,\n",
       " 69,\n",
       " 70,\n",
       " 72,\n",
       " 73,\n",
       " 78,\n",
       " 79,\n",
       " 80,\n",
       " 82,\n",
       " 83,\n",
       " 85,\n",
       " 87,\n",
       " 90,\n",
       " 92,\n",
       " 93,\n",
       " 95,\n",
       " 96]"
      ]
     },
     "execution_count": 8,
     "metadata": {},
     "output_type": "execute_result"
    }
   ],
   "source": [
    "import random\n",
    "\n",
    "data_list = random.sample(range(100), 50)\n",
    "bubblesort(data_list)"
   ]
  },
  {
   "cell_type": "markdown",
   "metadata": {},
   "source": [
    "## 5. 알고리즘 분석\n",
    "- 반복문이 두 개 O(n<sup>2</sup>)\n",
    "    - 최악의 경우, n*(n-1)/2\n",
    "- 완전 정렬이 되어 있는 상태라면 최선은 O(n)"
   ]
  },
  {
   "cell_type": "code",
   "execution_count": null,
   "metadata": {},
   "outputs": [],
   "source": []
  }
 ],
 "metadata": {
  "kernelspec": {
   "display_name": "Python 3",
   "language": "python",
   "name": "python3"
  },
  "language_info": {
   "codemirror_mode": {
    "name": "ipython",
    "version": 3
   },
   "file_extension": ".py",
   "mimetype": "text/x-python",
   "name": "python",
   "nbconvert_exporter": "python",
   "pygments_lexer": "ipython3",
   "version": "3.8.3"
  }
 },
 "nbformat": 4,
 "nbformat_minor": 4
}
