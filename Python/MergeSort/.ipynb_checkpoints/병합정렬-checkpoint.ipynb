{
 "cells": [
  {
   "cell_type": "markdown",
   "metadata": {},
   "source": [
    "# 대표적인 정렬6: 병합 정렬 (merge sort)"
   ]
  },
  {
   "cell_type": "markdown",
   "metadata": {},
   "source": [
    "## 1. 병합 정렬 (merge sort)\n",
    "- 재귀용법을 활용한 정렬 알고리즘\n",
    "\t1. 리스트를 절반으로 잘라 비슷한 크기의 두 부분 리스트로 나눈다.\n",
    "\t2. 각 부분 리스트를 재귀적으로 합병 정렬을 이용해 정렬한다.\n",
    "\t3. 두 부분 리스트를 다시 하나의 정렬된 리스트로 합병한다.\n",
    "- 직접 눈으로 보면 더 이해가 쉽다: https://visualgo.net/en/sorting"
   ]
  },
  {
   "cell_type": "markdown",
   "metadata": {},
   "source": [
    "<img src=\"https://upload.wikimedia.org/wikipedia/commons/c/cc/Merge-sort-example-300px.gif\" />\n",
    "- 출처: https://ko.wikipedia.org/wiki/합병_정렬"
   ]
  },
  {
   "cell_type": "markdown",
   "metadata": {},
   "source": [
    "## 2. 알고리즘 이해\n",
    "- 데이터가 네 개 일때 (데이터 갯수에 따라 복잡도가 떨어지는 것은 아니므로, 네 개로 바로 로직을 이해해보자.)\n",
    "\t- 예: data_list = [1, 9, 3, 2]\n",
    "\t\t- 먼저 [1, 9], [3, 2] 로 나누고\n",
    "\t\t- 다시 앞 부분은 [1], [9] 로 나누고\n",
    "\t\t- 다시 정렬해서 합친다. [1, 9]\n",
    "\t\t- 다음 [3, 2] 는 [3], [2] 로 나누고\n",
    "\t\t- 다시 정렬해서 합친다. [2, 3]\n",
    "\t\t- 이제 [1, 9] 와 [2, 3] 을 합친다.\n",
    "\t\t\t- 1 < 2 이니 [1]\n",
    "\t\t\t- 9 > 2 이니 [1, 2]\n",
    "\t\t\t- 9 > 3 이니 [1, 2, 3]\n",
    "\t\t\t- 9 밖에 없으니, [1, 2, 3, 9]"
   ]
  },
  {
   "cell_type": "markdown",
   "metadata": {},
   "source": [
    "## 3. 알고리즘 구현\n",
    "- mergesplit 함수 만들기\n",
    "\t- 만약 리스트 개수가 한 개이면 해당 값 리턴\n",
    "\t- 그렇지 않으면, 리스트를 앞뒤, 두 개로 나누기\n",
    "\t- left = mergesplit(앞)\n",
    "\t- right = mergesplit(뒤)\n",
    "\t- merge(left, right)\n",
    "- merge 함수 만들기\n",
    "\t- 리스트 변수 하나 만들기 (sorted)\n",
    "\t- left_index, right_index = 0\n",
    "\t- while left_idex < len(left) or right_index < len(right):\n",
    "\t\t- 만약, left_index 나 right_index 가 이미 left 또는 right 리스트를 다 순회했다면, 그 반대쪽 데이터를 그대로 넣고, 해당 인덱스 1 증가\n",
    "\t\t- if left[left_index] < right[right_index]:\n",
    "\t\t\t- sorted.append(left[left_index])\n",
    "\t\t\t- left_index += 1\n",
    "\t\t- else:\n",
    "\t\t\t- sorted.append(right[right_index])\n",
    "\t\t\t- right_index += 1"
   ]
  },
  {
   "cell_type": "markdown",
   "metadata": {},
   "source": [
    "### 작은 부분부터 작성해서 하나씩 구현하기\n",
    "#### 프로그래밍 연습\n",
    "- 어떤 데이터리스트가 있을 때 리스트를 앞뒤로 자르는 코드 작성해보기 (일반화)"
   ]
  },
  {
   "cell_type": "code",
   "execution_count": 1,
   "metadata": {},
   "outputs": [],
   "source": [
    "def split(data):\n",
    "    medium = int(len(data) / 2)\n",
    "    left = data[:medium]\n",
    "    right = data[medium:]\n",
    "\n",
    "data_list = [3, 4, 1, 3, 2]\n",
    "split(data_list)"
   ]
  },
  {
   "cell_type": "markdown",
   "metadata": {},
   "source": [
    "### 재귀용법 활용하기\n",
    "#### 프로그래밍 연습\n",
    "- 다음 문장을 코드로 작성해보기 (merge 함수는 아직 없는 상태, 있다고만 가정)\n",
    "\t- mergesplit 함수 만들기\n",
    "\t\t- 만약 리스트 갯수가 한개이면 해당 값 리턴\n",
    "\t\t- 그렇지 않으면, 리스트를 앞뒤, 두 개로 나누기\n",
    "\t\t- left = mergesplit(앞)\n",
    "\t\t- right = mergesplit(뒤)\n",
    "\t\t- merge(left, right)"
   ]
  },
  {
   "cell_type": "code",
   "execution_count": 2,
   "metadata": {},
   "outputs": [],
   "source": [
    "def mergesplit(data):\n",
    "    if len(data) <= 1:\n",
    "        return data\n",
    "\n",
    "    medium = int(len(data) / 2)\n",
    "    left = mergesplit(data[:medium])\n",
    "    right = mergesplit(data[medium:])\n",
    "\n",
    "    return merge(left, right)"
   ]
  },
  {
   "cell_type": "markdown",
   "metadata": {},
   "source": [
    "### merge 함수 만들기\n",
    "- 목표: left 와 right 의 리스트 데이터를 정렬해서 sorted_list 라는 이름으로 return 하기\n",
    "- left 와 right 는 이미 정렬된 상태 또는 데이터가 하나임"
   ]
  },
  {
   "cell_type": "markdown",
   "metadata": {},
   "source": [
    "#### 프로그래밍 연습\n",
    "- 1. left 부터 하나씩 right 와 비교\n",
    "- 2. left < right 이면, left 를 sorted_list 에 넣고, 다음 left 리스트와 right 비교\n",
    "\t- 그렇지 않으면 반대로 하기\n",
    "- 다음의 경우만 프로그래밍으로 작성해보기\n",
    "\t- left = [0]\n",
    "\t- right = [3]\n",
    "\t- 결과는 별도의 리스트 변수를 만들어 작은 숫자 순으로 순서대로 저장해서 리턴"
   ]
  },
  {
   "cell_type": "markdown",
   "metadata": {},
   "source": [
    "#### 프로그래밍 연습\n",
    "- 다음의 경우만 프로그래밍으로 작성해보기\n",
    "\t- left = [0, 2]\n",
    "\t- right = [1]\n",
    "\t- 결과는 별도의 리스트 변수를 만들어 작은 숫자 순으로 순서대로 저장해서 리턴"
   ]
  },
  {
   "cell_type": "markdown",
   "metadata": {},
   "source": [
    "#### 프로그래밍 연습\n",
    "- 다음 경우만 프로그래밍으로 작성해보기\n",
    "\t- left = [0, 2]\n",
    "\t- right = [1, 3]\n",
    "\t- 결과는 별도의 리스트 변수를 만들어 작은 숫자 순으로 순서대로 저장해서 리턴"
   ]
  },
  {
   "cell_type": "markdown",
   "metadata": {},
   "source": [
    "#### 프로그래밍 연습\n",
    "- left, right 리스트 변수의 데이터 수가 한 개에서 여러 개가 될 수 있을 때 작성해보기 (일반화)\n",
    "\t1. sorted_list 리스트 변수 선언하기\n",
    "\t2. left_index, right_index 를 0으로 초기화 하기\n",
    "\t3. while left_index < len(left) or right_index < len(right) 이면,\n",
    "\t\t- 만약 left_index >= len(left) 이면, sorted_list 에 right[right_index:] 를 추가하고, right_index = len(right)\n",
    "\t\t- 만약 right_index >= len(right) 이면, sorted_list 에 left[left_index:] 를 추가하고, left_index = len(left)\n",
    "\t\t- 만약 left[left_index] < right[right_index] 이면, sorted_list 에 left[left_index] 를 추가하고. left_index 값을 1 증가\n",
    "\t\t- 위 세가지가 아니면, sorted_list 에 right[right_index] 를 추가하고, right_index 값을 1 증가"
   ]
  },
  {
   "cell_type": "code",
   "execution_count": 4,
   "metadata": {},
   "outputs": [],
   "source": [
    "def merge(left, right):\n",
    "    sorted_list = list()\n",
    "    left_point, right_point = 0, 0\n",
    "\n",
    "    # Case 1: left/right 아직 남아있을 때\n",
    "    while len(left) > left_point and len(right) > right_point:\n",
    "        if left[left_point] < right[right_point]:\n",
    "            sorted_list.append(left[left_point])\n",
    "            left_point += 1\n",
    "        else:\n",
    "            sorted_list.append(right[right_point])\n",
    "            right_point += 1\n",
    "\n",
    "    # Case 2: left 만 남아있을 때\n",
    "    while len(left) > left_point:\n",
    "        sorted_list.append(left[left_point])\n",
    "        left_point += 1\n",
    "\n",
    "    # Case 3: right 만 남아있을 때\n",
    "    while len(right) > right_point:\n",
    "        sorted_list.append(right[right_point])\n",
    "        right_point += 1\n",
    "\n",
    "    return sorted_list"
   ]
  },
  {
   "cell_type": "markdown",
   "metadata": {},
   "source": [
    "### 최종 코드"
   ]
  },
  {
   "cell_type": "code",
   "execution_count": 5,
   "metadata": {},
   "outputs": [],
   "source": [
    "def merge(left, right):\n",
    "    sorted_list = list()\n",
    "    left_point, right_point = 0, 0\n",
    "\n",
    "    # Case 1: left/right 아직 남아있을 때\n",
    "    while len(left) > left_point and len(right) > right_point:\n",
    "        if left[left_point] < right[right_point]:\n",
    "            sorted_list.append(left[left_point])\n",
    "            left_point += 1\n",
    "        else:\n",
    "            sorted_list.append(right[right_point])\n",
    "            right_point += 1\n",
    "\n",
    "    # Case 2: left 만 남아있을 때\n",
    "    while len(left) > left_point:\n",
    "        sorted_list.append(left[left_point])\n",
    "        left_point += 1\n",
    "\n",
    "    # Case 3: right 만 남아있을 때\n",
    "    while len(right) > right_point:\n",
    "        sorted_list.append(right[right_point])\n",
    "        right_point += 1\n",
    "\n",
    "    return sorted_list\n",
    "\n",
    "def mergesplit(data):\n",
    "    if len(data) <= 1:\n",
    "        return data\n",
    "\n",
    "    medium = int(len(data) / 2)\n",
    "    left = mergesplit(data[:medium])\n",
    "    right = mergesplit(data[medium:])\n",
    "\n",
    "    return merge(left, right)"
   ]
  },
  {
   "cell_type": "code",
   "execution_count": 6,
   "metadata": {},
   "outputs": [
    {
     "data": {
      "text/plain": [
       "[9, 12, 30, 40, 43, 63, 64, 65, 66, 92]"
      ]
     },
     "execution_count": 6,
     "metadata": {},
     "output_type": "execute_result"
    }
   ],
   "source": [
    "import random\n",
    "data_list = random.sample(range(100), 10)\n",
    "mergesplit(data_list)"
   ]
  },
  {
   "cell_type": "markdown",
   "metadata": {},
   "source": [
    "## 4. 알고리즘 분석\n",
    "- 알고리즘 분석은 쉽지 않음, 이 부분은 참고로만 알아두자.\n",
    "\t- 다음을 보고 이해해보자\n",
    "\t\t- 몇 단계 깊이까지 만들어지는지를 depth 라고 하고 i 로 놓자. 맨 위 단계는 0 으로 놓자.\n",
    "\t\t\t- 다음 그림에서 n / 2<sup>2</sup> 는 2단계 깊이라고 해보자.\n",
    "\t\t\t- 각 단계에 있는 하나의 노드 안의 리스트 길이는 n / 2<sup>2</sup> 가 된다.\n",
    "\t\t\t- 각 단계에는 2<sup>i</sup> 개의 노드가 있다.\n",
    "\t\t- 따라서, 각 단계는 항상 2<sup>i</sup> * (n / 2<sup>i</sup>) = O(n)\n",
    "\t\t- 단계는 항상 log<sub>2</sub>n 개 만큼 만들어짐. 시간 복잡도는 결국 O(log n)\n",
    "\t\t- 따라서, 단계별 시간 복잡도 O(n) * O(log n) = O(n log n)"
   ]
  },
  {
   "cell_type": "code",
   "execution_count": null,
   "metadata": {},
   "outputs": [],
   "source": []
  }
 ],
 "metadata": {
  "kernelspec": {
   "display_name": "Python 3",
   "language": "python",
   "name": "python3"
  },
  "language_info": {
   "codemirror_mode": {
    "name": "ipython",
    "version": 3
   },
   "file_extension": ".py",
   "mimetype": "text/x-python",
   "name": "python",
   "nbconvert_exporter": "python",
   "pygments_lexer": "ipython3",
   "version": "3.8.3"
  }
 },
 "nbformat": 4,
 "nbformat_minor": 4
}
