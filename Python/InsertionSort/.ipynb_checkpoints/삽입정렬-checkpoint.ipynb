{
 "cells": [
  {
   "cell_type": "markdown",
   "metadata": {},
   "source": [
    "# 대표적인 정렬3: 삽입 정렬 (insertion sort)"
   ]
  },
  {
   "cell_type": "markdown",
   "metadata": {},
   "source": [
    "## 1. 삽입 정렬 (insertion sort) 란?\n",
    "- 삽입 정렬은 두번째 인덱스부터 시작\n",
    "- 해당 인덱스 (key 값) 앞에 있는 데이터(B)부터 비교해서 key 값이 더 작으면, B값을 뒤 인덱스로 복사\n",
    "- 이를 key 값이 더 큰 데이터를 만날 때까지 반복, 그리고 큰 데이터를 만난 위치 바로 뒤에 key 값을 이동\n",
    "\n",
    "직접 눈으로 보면 더 이해가 쉽다: https://visualgo.net/en/sorting"
   ]
  },
  {
   "cell_type": "markdown",
   "metadata": {},
   "source": [
    "<img src=\"https://upload.wikimedia.org/wikipedia/commons/9/9c/Insertion-sort-example.gif\" />\n",
    "\n",
    "출처: https://commons.wikimedia.org/wiki/File:Insertion-sort-example.gif"
   ]
  },
  {
   "cell_type": "markdown",
   "metadata": {},
   "source": [
    "## 2. 어떻게 코드로 만들까? (결국 프로그래밍으로 일반화할 수 있도록 만드는 것)\n",
    "- 데이터가 두 개 일때\n",
    "    - 예: data_list = [5, 3]\n",
    "        - data_list[1] < data_list[0] 이므로 자리 변경\n",
    "- 데이터가 세 개 일때\n",
    "    - 예: data_list = [5, 3, 2]\n",
    "        - [3, 5, 2]\n",
    "        - [2, 3, 5]\n",
    "- 데이터가 네 개 일때\n",
    "    - 예: data_list = [5, 3, 2, 4]\n",
    "        - [3, 5, 2, 4]\n",
    "        - [2, 3, 5, 4]\n",
    "        - [2, 3, 4, 5]"
   ]
  },
  {
   "cell_type": "markdown",
   "metadata": {},
   "source": [
    "## 3. 알고리즘 구현\n",
    "1. for stand in range(len(data_list)) 로 반복\n",
    "2. key = data_list[stand]\n",
    "3. for num in range(stand + 1, 0, -1) 반복\n",
    "    - 내부 반복문 안에서 data_list[num] < data_list[num - 1] 이면,\n",
    "        - data_list[num - 1], data[num] = data[num], data[num - 1]"
   ]
  },
  {
   "cell_type": "code",
   "execution_count": 3,
   "metadata": {},
   "outputs": [],
   "source": [
    "def insertion_sort(data):\n",
    "    for stand in range(len(data) - 1):\n",
    "        for idx in range(stand + 1, 0, -1):\n",
    "            if data[idx] < data[idx - 1]:\n",
    "                data[idx], data[idx - 1] = data[idx - 1], data[idx]\n",
    "            else:\n",
    "                break\n",
    "                \n",
    "    return data"
   ]
  },
  {
   "cell_type": "code",
   "execution_count": 5,
   "metadata": {},
   "outputs": [
    {
     "data": {
      "text/plain": [
       "[5, 14, 16, 17, 23, 26, 33, 35, 38, 40, 46, 50, 53, 56, 71, 75, 84, 88, 90, 93]"
      ]
     },
     "execution_count": 5,
     "metadata": {},
     "output_type": "execute_result"
    }
   ],
   "source": [
    "import random\n",
    "\n",
    "data_list = random.sample(range(100), 20)\n",
    "insertion_sort(data_list)"
   ]
  },
  {
   "cell_type": "markdown",
   "metadata": {},
   "source": [
    "## 4. 알고리즘 분석\n",
    "- 반복문이 두 개 O(n<sup>2</sup>)\n",
    "    - 최악의 경우, n*(n-1)/2\n",
    "- 완전 정렬이 되어 있는 상태라면 최선은 O(n)"
   ]
  },
  {
   "cell_type": "code",
   "execution_count": null,
   "metadata": {},
   "outputs": [],
   "source": []
  }
 ],
 "metadata": {
  "kernelspec": {
   "display_name": "Python 3",
   "language": "python",
   "name": "python3"
  },
  "language_info": {
   "codemirror_mode": {
    "name": "ipython",
    "version": 3
   },
   "file_extension": ".py",
   "mimetype": "text/x-python",
   "name": "python",
   "nbconvert_exporter": "python",
   "pygments_lexer": "ipython3",
   "version": "3.8.3"
  }
 },
 "nbformat": 4,
 "nbformat_minor": 4
}
