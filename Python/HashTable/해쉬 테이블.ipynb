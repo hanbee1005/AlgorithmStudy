{
 "cells": [
  {
   "cell_type": "markdown",
   "metadata": {},
   "source": [
    "# 대표적인 자료구조: 해쉬 테이블(Hash Table)\n",
    "\n",
    "## 1. 해쉬 구조\n",
    "- Hash Table: 키(key)에 데이터(value)를 저장하는 데이터 구조\n",
    "    - Key를 통해 바로 데이터를 받아올 수 있으므로, 속도가 획기적으로 빨라짐\n",
    "    - 파이썬 딕셔너리(Dictionary) 타입이 해쉬 테이블의 예: key를 가지고 바로 데이터(value)를 꺼냄\n",
    "    - 보통 배열로 미리 해쉬 테이블 사이즈만큼 생성 후에 사용 (공간과 탐색 시간을 맞바꾸는 기법)\n",
    "    - 단, 파이썬에서는 해쉬를 별도로 구현할 이유가 없음. - 딕셔너리 타입을 사용하면 됨\n",
    "    \n",
    "## 2. 알아둘 용어\n",
    "- 해쉬(Hash): 임의 값을 고정 길이로 변환하는 것\n",
    "- 해쉬 테이블(Hash Table): 키 값의 연산에 의해 직접 접근이 가능한 데이터 구조\n",
    "- 해싱 함수(Hashing Function): Key에 대해 산술 연산을 이용해 데이터 위치를 찾을 수 있는 함수\n",
    "- 해쉬 값(Hash Value) 또는 해쉬 주소(Hash Address): Key를 해싱 함수로 연산해서, 해쉬 값을 알아내고, 이를 기반으로 해쉬 테이블에서 해당 키에 대한 데이터 위치를 일관성 있게 찾을 수 있음\n",
    "- 슬롯(Slot): 한 개의 데이터를 저장할 수 있는 공간\n",
    "- 저장할 데이터에 대해 Key를 추출할 수 있는 별도 함수도 존재할 수 있음\n",
    "\n",
    "<img src=\"http://www.fun-coding.org/00_Images/hash.png\" />"
   ]
  },
  {
   "cell_type": "markdown",
   "metadata": {},
   "source": [
    "## 3. 간단한 해쉬 예"
   ]
  },
  {
   "cell_type": "markdown",
   "metadata": {},
   "source": [
    "### 3.1. hash table 만들기\n",
    "- 참고: 파이썬 list comprehension - http://www.fun-coding.org/PL&OOP5-2.html"
   ]
  },
  {
   "cell_type": "code",
   "execution_count": 11,
   "metadata": {},
   "outputs": [
    {
     "data": {
      "text/plain": [
       "[0, 0, 0, 0, 0, 0, 0, 0, 0, 0]"
      ]
     },
     "execution_count": 11,
     "metadata": {},
     "output_type": "execute_result"
    }
   ],
   "source": [
    "hash_table = list([0 for i in range(10)])\n",
    "hash_table"
   ]
  },
  {
   "cell_type": "markdown",
   "metadata": {},
   "source": [
    "### 3.2. 이번엔 초간단 해쉬 함수를 만들어 봅니다.\n",
    "- 다양한 해쉬 함수 고안 기법이 있으며, 가장 간단한 방식이 Division 법 (나누기를 통한 나머지 값을 사용하는 기법)"
   ]
  },
  {
   "cell_type": "code",
   "execution_count": 12,
   "metadata": {},
   "outputs": [],
   "source": [
    "def hash_func(key):\n",
    "    return key%5"
   ]
  },
  {
   "cell_type": "markdown",
   "metadata": {},
   "source": [
    "### 3.3. 해쉬 테이블에 저장해 보겠습니다.\n",
    "- 데이터에 따라 필요 시, 키 생성 방법 정의가 필요함"
   ]
  },
  {
   "cell_type": "code",
   "execution_count": 13,
   "metadata": {},
   "outputs": [
    {
     "name": "stdout",
     "output_type": "stream",
     "text": [
      "65 68 84\n",
      "0\n"
     ]
    }
   ],
   "source": [
    "data1 = 'Andy'\n",
    "data2 = 'Dave'\n",
    "data3 = 'Trump'\n",
    "\n",
    "## ord(): 문자의 ASCII(아스키) 코드 리턴\n",
    "print(ord(data1[0]), ord(data2[0]), ord(data3[0]))\n",
    "print(hash_func(ord(data1[0])))"
   ]
  },
  {
   "cell_type": "markdown",
   "metadata": {},
   "source": [
    "#### 3.3.2. 해쉬 테이블에 값 저장 예\n",
    "- data:value 와 같이 data 와 value 를 넣으면, 해당 data 에 대한 key 를 찾아서 해당 key 에 대응하는 hash 주소에 value를 저장하는 예"
   ]
  },
  {
   "cell_type": "code",
   "execution_count": 63,
   "metadata": {},
   "outputs": [],
   "source": [
    "def storage_data(data, value):\n",
    "    key = ord(data[0])\n",
    "    hash_address = hash_func(key)\n",
    "    hash_table[hash_address] = value"
   ]
  },
  {
   "cell_type": "markdown",
   "metadata": {},
   "source": [
    "### 3.4. 해쉬 테이블에서 특정 주소의 데이터를 가지고 오는 함수도 만들어 봅시다."
   ]
  },
  {
   "cell_type": "code",
   "execution_count": 64,
   "metadata": {},
   "outputs": [],
   "source": [
    "storage_data('Andy', '01055558888')\n",
    "storage_data('Dave', '01044448888')\n",
    "storage_data('Trump', '01055556666')"
   ]
  },
  {
   "cell_type": "markdown",
   "metadata": {},
   "source": [
    "### 3.5. 실제 데이터를 저장하고, 읽어보겠습니다."
   ]
  },
  {
   "cell_type": "code",
   "execution_count": 65,
   "metadata": {},
   "outputs": [
    {
     "data": {
      "text/plain": [
       "'01055558888'"
      ]
     },
     "execution_count": 65,
     "metadata": {},
     "output_type": "execute_result"
    }
   ],
   "source": [
    "def get_data(data):\n",
    "    key = ord(data[0])\n",
    "    hash_address = hash_func(key)\n",
    "    return hash_table[hash_address]\n",
    "\n",
    "get_data('Andy')"
   ]
  },
  {
   "cell_type": "markdown",
   "metadata": {},
   "source": [
    "## 4. 자료구조 해쉬 테이블의 장단점과 주요 용도\n",
    "- 장점\n",
    "    - 데이터 저장/읽기 속도가 빠르다. (검색 속도가 빠르다.)\n",
    "    - 해쉬는 키에 대한 데이터가 있는지(중복) 확인이 쉬움\n",
    "- 단점\n",
    "    - 일반적으로 저장 공간이 좀 더 많이 필요하다.\n",
    "    - 여러 키에 대한 주소가 동일할 경우, 충돌을 해결하기 위한 별도의 자료구조가 필요\n",
    "- 주요 용도\n",
    "    - 검색이 많이 필요한 경우\n",
    "    - 저장, 삭제, 읽기가 빈번한 경우\n",
    "    - 캐시 구현 시 (중복 확인이 쉽기 때문)"
   ]
  },
  {
   "cell_type": "markdown",
   "metadata": {},
   "source": [
    "## 5. 프로그래밍 연습\n",
    "\n",
    "- 연습1: 리스트 변수를 활용해서 해쉬 테이블 구현해보기\n",
    "    1. 해쉬 함수: key % 8\n",
    "    2. 해쉬 키 생성: hash(data)"
   ]
  },
  {
   "cell_type": "code",
   "execution_count": 66,
   "metadata": {},
   "outputs": [],
   "source": [
    "hash_table = list([0 for i in range(8)])\n",
    "\n",
    "def get_key(key):\n",
    "    return hash(key)\n",
    "\n",
    "def hash_func(key):\n",
    "    return key % 8\n",
    "\n",
    "def save_data(data, value):\n",
    "    hash_address = hash_func(get_key(data))\n",
    "    hash_table[hash_address] = value\n",
    "    \n",
    "def read_data(data):\n",
    "    hash_address = hash_func(get_key(data))\n",
    "    return hash_table[hash_address]"
   ]
  },
  {
   "cell_type": "code",
   "execution_count": 67,
   "metadata": {},
   "outputs": [
    {
     "data": {
      "text/plain": [
       "'01082659473'"
      ]
     },
     "execution_count": 67,
     "metadata": {},
     "output_type": "execute_result"
    }
   ],
   "source": [
    "save_data('Hanbee', '01082659473')\n",
    "save_data('Miri', '01092736947')\n",
    "read_data('Hanbee')"
   ]
  },
  {
   "cell_type": "code",
   "execution_count": 68,
   "metadata": {},
   "outputs": [
    {
     "data": {
      "text/plain": [
       "['01082659473', 0, '01092736947', 0, 0, 0, 0, 0]"
      ]
     },
     "execution_count": 68,
     "metadata": {},
     "output_type": "execute_result"
    }
   ],
   "source": [
    "hash_table"
   ]
  },
  {
   "cell_type": "markdown",
   "metadata": {},
   "source": [
    "## 6. 충돌(Collision) 해결 알고리즘 (좋은 해쉬 함수 사용하기)\n",
    "- 해쉬 테이블의 가장 큰 문제는 충돌(Collision)의 문제입니다. 이 문제는 충돌(Collision) 또는 해쉬 충돌(Hash Collision)이라고 부릅니다."
   ]
  },
  {
   "cell_type": "markdown",
   "metadata": {},
   "source": [
    "### 6.1. Chaining 기법\n",
    "- 개방 해싱 또는 Open Hashing 기법 중 하나: 해쉬 테이블 저장 공간 외의 공간을 활용하는 기법\n",
    "- 충돌이 일어나면, 링크드 리스트라는 자료구조를 사용해서 링크드 리스트로 데이터를 추가로 뒤에 연결시켜 저장하는 방법"
   ]
  },
  {
   "cell_type": "markdown",
   "metadata": {},
   "source": [
    "- 연습2: 연습1의 해쉬 테이블 코드에 Chaining 기법으로 충돌 해결 코드를 추가해보기\n",
    "    1. 해쉬 함수: key % 8\n",
    "    2. 해쉬 키 생성: hash(data)"
   ]
  },
  {
   "cell_type": "code",
   "execution_count": 69,
   "metadata": {},
   "outputs": [],
   "source": [
    "hash_table = list([0 for i in range(8)])\n",
    "\n",
    "def get_key(key):\n",
    "    return hash(key)\n",
    "\n",
    "def hash_func(key):\n",
    "    return key % 8\n",
    "\n",
    "def save_data(data, value):\n",
    "    index_key = get_key(data)\n",
    "    hash_address = hash_func(index_key)\n",
    "    if hash_table[hash_address] != 0:\n",
    "        for index in range(len(hash_table[hash_address])):\n",
    "            if hash_table[hash_address][index][0] == index_key:\n",
    "                hash_table[hash_address][index][1] = value\n",
    "                return\n",
    "        hash_table[hash_address].append([index_key, value])\n",
    "    else:\n",
    "        hash_table[hash_address] = [[index_key, value]]\n",
    "    \n",
    "def read_data(data):\n",
    "    index_key = get_key(data)\n",
    "    hash_address = hash_func(index_key)\n",
    "    if hash_table[hash_address] != 0:\n",
    "        for index in range(len(hash_table[hash_address])):\n",
    "            if hash_table[hash_address][index][0] == index_key:\n",
    "                return hash_table[hash_address][index][1]\n",
    "        return None\n",
    "    else:\n",
    "        return None"
   ]
  },
  {
   "cell_type": "code",
   "execution_count": 70,
   "metadata": {},
   "outputs": [
    {
     "data": {
      "text/plain": [
       "'01093837652'"
      ]
     },
     "execution_count": 70,
     "metadata": {},
     "output_type": "execute_result"
    }
   ],
   "source": [
    "save_data('Dd', '01017837626')\n",
    "save_data('Data', '01093837652')\n",
    "read_data('Data')"
   ]
  },
  {
   "cell_type": "markdown",
   "metadata": {},
   "source": [
    "### 6.2. Linear Probing 기법\n",
    "- 폐쇄 해싱 또는 Closing Hashing 기법 중 하나: 해쉬 테이블 저장 공간 안에서 충돌 문제를 해결하는 기법\n",
    "- 충돌이 일어나면, 해당 Hash Address의 다음 Address 부터 맨 처음 나오는 빈 공간에 저장하는 기법\n",
    "    - 저장 공간 활용도를 높이기 위한 기법"
   ]
  },
  {
   "cell_type": "markdown",
   "metadata": {},
   "source": [
    "- 연습3: 연습1의 해쉬 테이블 코드에 Linear Probing 기법으로 충돌 해결 코드를 추가해보기\n",
    "    1. 해쉬 함수: key % 8\n",
    "    2. 해쉬 키 생성: hash(data)"
   ]
  },
  {
   "cell_type": "code",
   "execution_count": 71,
   "metadata": {},
   "outputs": [],
   "source": [
    "hash_table = list([0 for i in range(8)])\n",
    "\n",
    "def get_key(key):\n",
    "    return hash(key)\n",
    "\n",
    "def hash_func(key):\n",
    "    return key % 8\n",
    "\n",
    "def save_data(data, value):\n",
    "    index_key = get_key(data)\n",
    "    hash_address = hash_func(index_key)\n",
    "    if hash_table[hash_address] != 0:\n",
    "        for index in range(hash_address, len(hash_table)):\n",
    "            if hash_table[index] == 0:\n",
    "                hash_table[index] = [index_key, value]\n",
    "                return\n",
    "            elif hash_table[index][0] == index_key:\n",
    "                hash_table[index][1] = value\n",
    "                return\n",
    "    else:\n",
    "        hash_table[hash_address] = [index_key, value]\n",
    "    \n",
    "def read_data(data):\n",
    "    index_key = get_key(data)\n",
    "    hash_address = hash_func(index_key)\n",
    "    if hash_table[hash_address] != 0:\n",
    "        for index in range(hash_address, len(hash_table)):\n",
    "            if hash_table[index] == 0:\n",
    "                return None\n",
    "            elif hash_table[index][0] == index_key:\n",
    "                return hash_table[index][1]\n",
    "    else:\n",
    "        return None"
   ]
  },
  {
   "cell_type": "code",
   "execution_count": 72,
   "metadata": {},
   "outputs": [
    {
     "data": {
      "text/plain": [
       "'01098762457'"
      ]
     },
     "execution_count": 72,
     "metadata": {},
     "output_type": "execute_result"
    }
   ],
   "source": [
    "save_data('da', '01098725689')\n",
    "save_data('dk', '01098762457')\n",
    "read_data('dk')"
   ]
  },
  {
   "cell_type": "markdown",
   "metadata": {},
   "source": [
    "### 6.3. 빈번한 충돌을 개선하는 기법\n",
    "- 해쉬 함수를 재정의 및 해쉬 테이블 저장 공간을 확대\n",
    "- 예:\n",
    "    ```python\n",
    "       hash_table = list([None for i in range(16)])\n",
    "    \n",
    "       def hash_func(key):\n",
    "            return key % 16\n",
    "    ```"
   ]
  },
  {
   "cell_type": "markdown",
   "metadata": {},
   "source": [
    "### 참고: 해쉬 함수와 키 생성 함수\n",
    "- 파이썬의 hash() 함수는 실행할 때마다 값이 달라질 수 있음\n",
    "- 유명한 해쉬 함수들이 있음: SHA(Secure Hash Algorithm, 안전한 해쉬 알고리즘)\n",
    "    - 어떤 데이터도 유일한 고정된 크기의 고정값을 리턴해주므로, 해쉬 함수로 유용하게 활용 가능"
   ]
  },
  {
   "cell_type": "markdown",
   "metadata": {},
   "source": [
    "#### SHA-1"
   ]
  },
  {
   "cell_type": "code",
   "execution_count": 73,
   "metadata": {},
   "outputs": [
    {
     "name": "stdout",
     "output_type": "stream",
     "text": [
      "a94a8fe5ccb19ba61c4c0873d391e987982fbbd3\n"
     ]
    }
   ],
   "source": [
    "import hashlib\n",
    "\n",
    "data = 'test'.encode()\n",
    "hash_object = hashlib.sha1()\n",
    "hash_object.update(data)  # data 대신 b'test'로 써도 됨\n",
    "hex_dig = hash_object.hexdigest()\n",
    "print(hex_dig)"
   ]
  },
  {
   "cell_type": "markdown",
   "metadata": {},
   "source": [
    "#### SHA-256"
   ]
  },
  {
   "cell_type": "code",
   "execution_count": 74,
   "metadata": {},
   "outputs": [
    {
     "name": "stdout",
     "output_type": "stream",
     "text": [
      "9f86d081884c7d659a2feaa0c55ad015a3bf4f1b2b0b822cd15d6c15b0f00a08\n"
     ]
    }
   ],
   "source": [
    "import hashlib\n",
    "\n",
    "data = 'test'.encode()\n",
    "hash_object = hashlib.sha256()\n",
    "hash_object.update(data)  # data 대신 b'test'로 써도 됨\n",
    "hex_dig = hash_object.hexdigest()\n",
    "print(hex_dig)"
   ]
  },
  {
   "cell_type": "markdown",
   "metadata": {},
   "source": [
    "- 연습4: 연습2의 Chaining 기법을 적용한 해쉬 테이블 코드에 키 생성 함수를 sha256 해쉬 알고리즘을 사용하도록 변경해 보기\n",
    "    1. 해쉬 함수: key % 8\n",
    "    2. 해쉬 키 생성: hash(data)"
   ]
  },
  {
   "cell_type": "code",
   "execution_count": 75,
   "metadata": {},
   "outputs": [],
   "source": [
    "import hashlib\n",
    "\n",
    "hash_table = list([0 for i in range(8)])\n",
    "\n",
    "def get_key(key):\n",
    "    hash_object = hashlib.sha256()\n",
    "    hash_object.update(key.encode())\n",
    "    hex_dig = hash_object.hexdigest()\n",
    "    return int(hex_dig, 16)\n",
    "\n",
    "def hash_func(key):\n",
    "    return key % 8\n",
    "\n",
    "def save_data(data, value):\n",
    "    index_key = get_key(data)\n",
    "    hash_address = hash_func(index_key)\n",
    "    if hash_table[hash_address] != 0:\n",
    "        for index in range(len(hash_table[hash_address])):\n",
    "            if hash_table[hash_address][index][0] == index_key:\n",
    "                hash_table[hash_address][index][1] = value\n",
    "                return\n",
    "        hash_table[hash_address].append([index_key, value])\n",
    "    else:\n",
    "        hash_table[hash_address] = [[index_key, value]]\n",
    "    \n",
    "def read_data(data):\n",
    "    index_key = get_key(data)\n",
    "    hash_address = hash_func(index_key)\n",
    "    if hash_table[hash_address] != 0:\n",
    "        for index in range(len(hash_table[hash_address])):\n",
    "            if hash_table[hash_address][index][0] == index_key:\n",
    "                return hash_table[hash_address][index][1]\n",
    "        return None\n",
    "    else:\n",
    "        return None"
   ]
  },
  {
   "cell_type": "code",
   "execution_count": 76,
   "metadata": {},
   "outputs": [
    {
     "data": {
      "text/plain": [
       "'01098512736'"
      ]
     },
     "execution_count": 76,
     "metadata": {},
     "output_type": "execute_result"
    }
   ],
   "source": [
    "save_data('da', '01098263557')\n",
    "save_data('dh', '01098512736')\n",
    "read_data('dh')"
   ]
  },
  {
   "cell_type": "markdown",
   "metadata": {},
   "source": [
    "## 7. 시간 복잡도\n",
    "- 일반적인 경우(Collision이 없는 경우)는 O(1)\n",
    "- 최악의 경우(Collision이 모두 발생하는 경우)는 O(n)\n",
    "\n",
    "- 해쉬 테이블의 경우, 일반적인 경우를 기대하고 만들기 때문에, 시간 복잡도는 O(1)이라고 할 수 있음\n",
    "\n",
    "#### 검색에서 해쉬 테이블의 사용 예\n",
    "- 16개의 배열에 데이터를 저장하고, 검색할 때 O(n)\n",
    "- 16개의 데이터 저장 공간을 가진 위의 해쉬 테이블에 데이터를 저장하고, 검색할 때 O(1)"
   ]
  },
  {
   "cell_type": "code",
   "execution_count": null,
   "metadata": {},
   "outputs": [],
   "source": []
  }
 ],
 "metadata": {
  "kernelspec": {
   "display_name": "Python 3",
   "language": "python",
   "name": "python3"
  },
  "language_info": {
   "codemirror_mode": {
    "name": "ipython",
    "version": 3
   },
   "file_extension": ".py",
   "mimetype": "text/x-python",
   "name": "python",
   "nbconvert_exporter": "python",
   "pygments_lexer": "ipython3",
   "version": "3.8.3"
  }
 },
 "nbformat": 4,
 "nbformat_minor": 4
}
